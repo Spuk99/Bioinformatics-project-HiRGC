{
 "cells": [
  {
   "cell_type": "code",
   "execution_count": 1,
   "id": "6323f5d8",
   "metadata": {},
   "outputs": [],
   "source": [
    "import random\n",
    "\n",
    "lengths = [300, 3000, 30000, 300000, 600, 6000, 60000, 600000, 900, 900000]\n",
    "\n",
    "for l in lengths:\n",
    "    for i in range(2):\n",
    "        temp = '>syn1'\n",
    "        for j in range(l):\n",
    "            if j % 30 == 0:\n",
    "                temp += '\\n'\n",
    "            temp += random.choice('ACTGNactgn')\n",
    "        \n",
    "        if i == 0:\n",
    "            with open(f\"reference_{l}.fa\", \"w\") as sequence:\n",
    "                print(f\"{temp}\", file = sequence)\n",
    "        else:\n",
    "            with open(f\"target_{l}.fa\", \"w\") as sequence:\n",
    "                print(f\"{temp}\", file = sequence)"
   ]
  },
  {
   "cell_type": "code",
   "execution_count": null,
   "id": "d88dba21",
   "metadata": {},
   "outputs": [],
   "source": []
  }
 ],
 "metadata": {
  "kernelspec": {
   "display_name": "Python 3 (ipykernel)",
   "language": "python",
   "name": "python3"
  },
  "language_info": {
   "codemirror_mode": {
    "name": "ipython",
    "version": 3
   },
   "file_extension": ".py",
   "mimetype": "text/x-python",
   "name": "python",
   "nbconvert_exporter": "python",
   "pygments_lexer": "ipython3",
   "version": "3.8.12"
  }
 },
 "nbformat": 4,
 "nbformat_minor": 5
}
